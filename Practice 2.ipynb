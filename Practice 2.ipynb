{
 "cells": [
  {
   "cell_type": "code",
   "execution_count": 2,
   "id": "7d9e7d7c",
   "metadata": {},
   "outputs": [
    {
     "name": "stdout",
     "output_type": "stream",
     "text": [
      "<mysql.connector.connection_cext.CMySQLConnection object at 0x000002B5FBC16A10>\n"
     ]
    }
   ],
   "source": [
    "import mysql.connector\n",
    "\n",
    "mydb = mysql.connector.connect(\n",
    "    host=\"127.0.0.1\",\n",
    "    user=\"root\",\n",
    "    password=\"8888\",\n",
    "    database=\"COLLEGE\"\n",
    ")\n",
    "\n",
    "print(mydb)"
   ]
  },
  {
   "cell_type": "code",
   "execution_count": 3,
   "id": "0a43ff34",
   "metadata": {},
   "outputs": [],
   "source": [
    "mycursor = mydb.cursor()\n",
    "mycursor.execute(\"CREATE TABLE IF NOT EXISTS STUDENTS (Roll_No INT PRIMARY KEY, Name VARCHAR(50), Marks INT NOT NULL, Grade VARCHAR(1), City VARCHAR(20))\")"
   ]
  },
  {
   "cell_type": "code",
   "execution_count": 4,
   "id": "e39e9786",
   "metadata": {},
   "outputs": [
    {
     "name": "stdout",
     "output_type": "stream",
     "text": [
      "('students',)\n"
     ]
    }
   ],
   "source": [
    "mycursor.execute(\"SHOW TABLES\")\n",
    "for db in mycursor:\n",
    "    print(db)"
   ]
  },
  {
   "cell_type": "code",
   "execution_count": 5,
   "id": "18c803a5",
   "metadata": {},
   "outputs": [],
   "source": [
    "mycursor = mydb.cursor()\n",
    "\n",
    "sqlFormula = \"INSERT INTO STUDENTS (Roll_No, Name, Marks, Grade, City) VALUES (%s, %s, %s, %s, %s)\"\n",
    "STUDENTS1 = (101, \"Anil\", 78, \"C\", \"Pune\")\n",
    "\n",
    "mycursor.execute(sqlFormula, STUDENTS1)\n",
    "\n",
    "mydb.commit()"
   ]
  },
  {
   "cell_type": "code",
   "execution_count": 6,
   "id": "dc27c8de",
   "metadata": {},
   "outputs": [],
   "source": [
    "mycursor = mydb.cursor()\n",
    "\n",
    "sqlFormula = \"INSERT INTO STUDENTS (Roll_No, Name, Marks, Grade, City) VALUES (%s, %s, %s, %s, %s)\"\n",
    "STUDENTS1 = [(102, \"Bhumika\", 93, \"A\", \"Mumbai\"),\n",
    "             (103, \"Chetan\", 85, \"B\", \"Mumbai\"),\n",
    "             (104, \"Dhruv\", 96, \"A\", \"Delhi\"),\n",
    "             (105, \"Emanuel\", 12, \"F\", \"Delhi\"),\n",
    "             (106, \"Farah\", 82, \"B\", \"Delhi\")]\n",
    "\n",
    "mycursor.executemany(sqlFormula, STUDENTS1)\n",
    "\n",
    "mydb.commit()"
   ]
  },
  {
   "cell_type": "code",
   "execution_count": 7,
   "id": "1415cdcf",
   "metadata": {},
   "outputs": [
    {
     "name": "stdout",
     "output_type": "stream",
     "text": [
      "(101, 'Anil', 78, 'C', 'Pune')\n",
      "(102, 'Bhumika', 93, 'A', 'Mumbai')\n",
      "(103, 'Chetan', 85, 'B', 'Mumbai')\n",
      "(104, 'Dhruv', 96, 'A', 'Delhi')\n",
      "(105, 'Emanuel', 12, 'F', 'Delhi')\n",
      "(106, 'Farah', 82, 'B', 'Delhi')\n"
     ]
    }
   ],
   "source": [
    "mycursor = mydb.cursor()\n",
    "\n",
    "mycursor.execute(\"SELECT * FROM STUDENTS\")\n",
    "myresult = mycursor.fetchall()\n",
    "for row in myresult:\n",
    "    print(row)"
   ]
  },
  {
   "cell_type": "code",
   "execution_count": 8,
   "id": "5e89233c",
   "metadata": {},
   "outputs": [
    {
     "name": "stdout",
     "output_type": "stream",
     "text": [
      "(78,)\n",
      "(93,)\n",
      "(85,)\n",
      "(96,)\n",
      "(12,)\n",
      "(82,)\n"
     ]
    }
   ],
   "source": [
    "mycursor = mydb.cursor()\n",
    "\n",
    "mycursor.execute(\"SELECT Marks FROM STUDENTS\")\n",
    "myresult = mycursor.fetchall()\n",
    "for row in myresult:\n",
    "    print(row)"
   ]
  },
  {
   "cell_type": "code",
   "execution_count": 9,
   "id": "0e82a076",
   "metadata": {},
   "outputs": [
    {
     "name": "stdout",
     "output_type": "stream",
     "text": [
      "78\n"
     ]
    }
   ],
   "source": [
    "mycursor = mydb.cursor()\n",
    "\n",
    "mycursor.execute(\"SELECT Marks FROM STUDENTS\")\n",
    "myresult = mycursor.fetchone()\n",
    "for row in myresult:\n",
    "    print(row)"
   ]
  },
  {
   "cell_type": "code",
   "execution_count": 10,
   "id": "c64e32c1",
   "metadata": {},
   "outputs": [
    {
     "name": "stdout",
     "output_type": "stream",
     "text": [
      "(102, 'Bhumika', 93, 'A', 'Mumbai')\n",
      "(103, 'Chetan', 85, 'B', 'Mumbai')\n",
      "(104, 'Dhruv', 96, 'A', 'Delhi')\n",
      "(106, 'Farah', 82, 'B', 'Delhi')\n"
     ]
    }
   ],
   "source": [
    "import mysql.connector\n",
    "\n",
    "mydb = mysql.connector.connect(\n",
    "    host=\"127.0.0.1\",\n",
    "    user=\"root\",\n",
    "    password=\"8888\",\n",
    "    database=\"COLLEGE\"\n",
    ")\n",
    "\n",
    "mycursor = mydb.cursor()\n",
    "\n",
    "sql = \"SELECT * FROM STUDENTS WHERE Marks > 80\"\n",
    "mycursor.execute(sql)\n",
    "myresult = mycursor.fetchall()\n",
    "for row in myresult:\n",
    "    print(row)"
   ]
  },
  {
   "cell_type": "code",
   "execution_count": 11,
   "id": "01217518",
   "metadata": {},
   "outputs": [
    {
     "name": "stdout",
     "output_type": "stream",
     "text": [
      "(102, 'Bhumika', 93, 'A', 'Mumbai')\n",
      "(103, 'Chetan', 85, 'B', 'Mumbai')\n"
     ]
    }
   ],
   "source": [
    "mycursor = mydb.cursor()\n",
    "\n",
    "sql = \"SELECT * FROM STUDENTS WHERE City = 'Mumbai'\"\n",
    "mycursor.execute(sql)\n",
    "myresult = mycursor.fetchall()\n",
    "for row in myresult:\n",
    "    print(row)"
   ]
  },
  {
   "cell_type": "code",
   "execution_count": 12,
   "id": "48f7a758",
   "metadata": {},
   "outputs": [
    {
     "name": "stdout",
     "output_type": "stream",
     "text": [
      "(102, 'Bhumika', 93, 'A', 'Mumbai')\n",
      "(103, 'Chetan', 85, 'B', 'Mumbai')\n"
     ]
    }
   ],
   "source": [
    "mycursor = mydb.cursor()\n",
    "\n",
    "sql = \"SELECT * FROM STUDENTS WHERE City = 'Mumbai'\"\n",
    "mycursor.execute(sql)\n",
    "myresult = mycursor.fetchall()\n",
    "for row in myresult:\n",
    "    print(row)"
   ]
  },
  {
   "cell_type": "code",
   "execution_count": 13,
   "id": "581edf38",
   "metadata": {},
   "outputs": [
    {
     "name": "stdout",
     "output_type": "stream",
     "text": [
      "(104, 'Dhruv', 96, 'A', 'Delhi')\n",
      "(105, 'Emanuel', 12, 'F', 'Delhi')\n",
      "(106, 'Farah', 82, 'B', 'Delhi')\n"
     ]
    }
   ],
   "source": [
    "mycursor = mydb.cursor()\n",
    "\n",
    "sql = \"SELECT * FROM STUDENTS WHERE City LIKE 'De%'\"\n",
    "mycursor.execute(sql)\n",
    "myresult = mycursor.fetchall()\n",
    "for row in myresult:\n",
    "    print(row)"
   ]
  },
  {
   "cell_type": "code",
   "execution_count": 14,
   "id": "ea66f086",
   "metadata": {},
   "outputs": [
    {
     "name": "stdout",
     "output_type": "stream",
     "text": [
      "(102, 'Bhumika', 93, 'A', 'Mumbai')\n",
      "(103, 'Chetan', 85, 'B', 'Mumbai')\n"
     ]
    }
   ],
   "source": [
    "mycursor = mydb.cursor()\n",
    "\n",
    "sql = \"SELECT * FROM STUDENTS WHERE City LIKE '%um%'\"\n",
    "mycursor.execute(sql)\n",
    "myresult = mycursor.fetchall()\n",
    "for row in myresult:\n",
    "    print(row)"
   ]
  },
  {
   "cell_type": "code",
   "execution_count": 15,
   "id": "c31c7412",
   "metadata": {},
   "outputs": [
    {
     "name": "stdout",
     "output_type": "stream",
     "text": [
      "(104, 'Dhruv', 96, 'A', 'Delhi')\n",
      "(105, 'Emanuel', 12, 'F', 'Delhi')\n",
      "(106, 'Farah', 82, 'B', 'Delhi')\n"
     ]
    }
   ],
   "source": [
    "mycursor = mydb.cursor()\n",
    "\n",
    "sql = \"SELECT * FROM STUDENTS WHERE City = %s\"\n",
    "mycursor.execute(sql, (\"Delhi\", ))\n",
    "myresult = mycursor.fetchall()\n",
    "for row in myresult:\n",
    "    print(row)"
   ]
  },
  {
   "cell_type": "code",
   "execution_count": 16,
   "id": "d5ea2430",
   "metadata": {},
   "outputs": [],
   "source": [
    "sql = \"UPDATE STUDENTS SET Marks = 80 WHERE Roll_No = 105\"\n",
    "mycursor.execute(sql)\n",
    "mydb.commit()"
   ]
  },
  {
   "cell_type": "code",
   "execution_count": 17,
   "id": "1c40a6f3",
   "metadata": {},
   "outputs": [
    {
     "name": "stdout",
     "output_type": "stream",
     "text": [
      "(101, 'Anil', 78, 'C', 'Pune')\n",
      "(102, 'Bhumika', 93, 'A', 'Mumbai')\n",
      "(103, 'Chetan', 85, 'B', 'Mumbai')\n",
      "(104, 'Dhruv', 96, 'A', 'Delhi')\n",
      "(105, 'Emanuel', 80, 'F', 'Delhi')\n"
     ]
    }
   ],
   "source": [
    "sql = \"SELECT * FROM STUDENTS LIMIT 5\"\n",
    "mycursor.execute(sql)\n",
    "myresult = mycursor.fetchall()\n",
    "for row in myresult:\n",
    "    print(row)"
   ]
  },
  {
   "cell_type": "code",
   "execution_count": 18,
   "id": "56452d4e",
   "metadata": {},
   "outputs": [
    {
     "name": "stdout",
     "output_type": "stream",
     "text": [
      "(103, 'Chetan', 85, 'B', 'Mumbai')\n",
      "(104, 'Dhruv', 96, 'A', 'Delhi')\n",
      "(105, 'Emanuel', 80, 'F', 'Delhi')\n",
      "(106, 'Farah', 82, 'B', 'Delhi')\n"
     ]
    }
   ],
   "source": [
    "sql = \"SELECT * FROM STUDENTS LIMIT 5 OFFSET 2\"\n",
    "mycursor.execute(sql)\n",
    "myresult = mycursor.fetchall()\n",
    "for row in myresult:\n",
    "    print(row)"
   ]
  },
  {
   "cell_type": "code",
   "execution_count": 19,
   "id": "936d3b3e",
   "metadata": {},
   "outputs": [
    {
     "name": "stdout",
     "output_type": "stream",
     "text": [
      "(101, 'Anil', 78, 'C', 'Pune')\n",
      "(102, 'Bhumika', 93, 'A', 'Mumbai')\n",
      "(103, 'Chetan', 85, 'B', 'Mumbai')\n",
      "(104, 'Dhruv', 96, 'A', 'Delhi')\n",
      "(105, 'Emanuel', 80, 'F', 'Delhi')\n",
      "(106, 'Farah', 82, 'B', 'Delhi')\n"
     ]
    }
   ],
   "source": [
    "sql = \"SELECT * FROM STUDENTS ORDER BY Name\"\n",
    "mycursor.execute(sql)\n",
    "myresult = mycursor.fetchall()\n",
    "for row in myresult:\n",
    "    print(row)"
   ]
  },
  {
   "cell_type": "code",
   "execution_count": 20,
   "id": "c514e2ca",
   "metadata": {},
   "outputs": [
    {
     "name": "stdout",
     "output_type": "stream",
     "text": [
      "(106, 'Farah', 82, 'B', 'Delhi')\n",
      "(105, 'Emanuel', 80, 'F', 'Delhi')\n",
      "(104, 'Dhruv', 96, 'A', 'Delhi')\n",
      "(103, 'Chetan', 85, 'B', 'Mumbai')\n",
      "(102, 'Bhumika', 93, 'A', 'Mumbai')\n",
      "(101, 'Anil', 78, 'C', 'Pune')\n"
     ]
    }
   ],
   "source": [
    "sql = \"SELECT * FROM STUDENTS ORDER BY Name DESC\"\n",
    "mycursor.execute(sql)\n",
    "myresult = mycursor.fetchall()\n",
    "for row in myresult:\n",
    "    print(row)"
   ]
  },
  {
   "cell_type": "code",
   "execution_count": 21,
   "id": "af1a8a2d",
   "metadata": {},
   "outputs": [
    {
     "name": "stdout",
     "output_type": "stream",
     "text": [
      "(101, 'Anil', 78, 'C', 'Pune')\n",
      "(102, 'Bhumika', 93, 'A', 'Mumbai')\n",
      "(103, 'Chetan', 85, 'B', 'Mumbai')\n",
      "(104, 'Dhruv', 96, 'A', 'Delhi')\n",
      "(105, 'Emanuel', 80, 'F', 'Delhi')\n",
      "(106, 'Farah', 82, 'B', 'Delhi')\n"
     ]
    }
   ],
   "source": [
    "sql = \"SELECT * FROM STUDENTS ORDER BY City DESC\"\n",
    "mycursor.execute(sql)\n",
    "myresult = mycursor.fetchall()\n",
    "for row in myresult:\n",
    "    print(row)"
   ]
  },
  {
   "cell_type": "code",
   "execution_count": 22,
   "id": "446f01f5",
   "metadata": {},
   "outputs": [],
   "source": [
    "import mysql.connector\n",
    "\n",
    "mydb = mysql.connector.connect(\n",
    "    host=\"127.0.0.1\",\n",
    "    user=\"root\",\n",
    "    password=\"8888\",\n",
    "    database=\"COLLEGE\"\n",
    ")\n",
    "\n",
    "mycursor = mydb.cursor()\n",
    "\n",
    "sql = \"DELETE FROM STUDENTS WHERE Name ='Emanuel'\"\n",
    "mycursor.execute(sql)\n",
    "mydb.commit()"
   ]
  },
  {
   "cell_type": "code",
   "execution_count": 23,
   "id": "d741d2d9",
   "metadata": {},
   "outputs": [
    {
     "name": "stdout",
     "output_type": "stream",
     "text": [
      "(101, 'Anil', 78, 'C', 'Pune')\n",
      "(102, 'Bhumika', 93, 'A', 'Mumbai')\n",
      "(103, 'Chetan', 85, 'B', 'Mumbai')\n",
      "(104, 'Dhruv', 96, 'A', 'Delhi')\n",
      "(106, 'Farah', 82, 'B', 'Delhi')\n"
     ]
    }
   ],
   "source": [
    "sql = \"SELECT * FROM STUDENTS\"\n",
    "mycursor.execute(sql)\n",
    "myresult = mycursor.fetchall()\n",
    "for row in myresult:\n",
    "    print(row)"
   ]
  },
  {
   "cell_type": "code",
   "execution_count": 24,
   "id": "9f09d82c",
   "metadata": {},
   "outputs": [],
   "source": [
    "sql = \"DROP TABLE  IF EXISTS STUDENTS\"\n",
    "mycursor.execute(sql)\n",
    "mydb.commit()"
   ]
  },
  {
   "cell_type": "code",
   "execution_count": 25,
   "id": "a462d282",
   "metadata": {},
   "outputs": [],
   "source": [
    "sql = \"DROP DATABASE  IF EXISTS COLLEGE\"\n",
    "mycursor.execute(sql)\n",
    "mydb.commit()"
   ]
  },
  {
   "cell_type": "code",
   "execution_count": null,
   "id": "78ae74ba",
   "metadata": {},
   "outputs": [],
   "source": []
  }
 ],
 "metadata": {
  "kernelspec": {
   "display_name": "Python 3 (ipykernel)",
   "language": "python",
   "name": "python3"
  },
  "language_info": {
   "codemirror_mode": {
    "name": "ipython",
    "version": 3
   },
   "file_extension": ".py",
   "mimetype": "text/x-python",
   "name": "python",
   "nbconvert_exporter": "python",
   "pygments_lexer": "ipython3",
   "version": "3.10.13"
  }
 },
 "nbformat": 4,
 "nbformat_minor": 5
}
